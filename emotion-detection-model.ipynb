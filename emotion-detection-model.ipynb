{
 "cells": [
  {
   "cell_type": "markdown",
   "id": "940a8bed",
   "metadata": {},
   "source": [
    "# Emotion Detection"
   ]
  },
  {
   "cell_type": "code",
   "execution_count": 1,
   "id": "9b9532bb",
   "metadata": {
    "execution": {
     "iopub.execute_input": "2024-01-01T19:50:08.785015Z",
     "iopub.status.busy": "2024-01-01T19:50:08.784196Z",
     "iopub.status.idle": "2024-01-01T19:50:08.794353Z",
     "shell.execute_reply": "2024-01-01T19:50:08.793362Z",
     "shell.execute_reply.started": "2024-01-01T19:50:08.784978Z"
    }
   },
   "outputs": [
    {
     "name": "stderr",
     "output_type": "stream",
     "text": [
      "C:\\Users\\Shuaib\\anaconda3\\lib\\site-packages\\scipy\\__init__.py:146: UserWarning: A NumPy version >=1.16.5 and <1.23.0 is required for this version of SciPy (detected version 1.24.0\n",
      "  warnings.warn(f\"A NumPy version >={np_minversion} and <{np_maxversion}\"\n"
     ]
    },
    {
     "name": "stdout",
     "output_type": "stream",
     "text": [
      "WARNING:tensorflow:From C:\\Users\\Shuaib\\anaconda3\\lib\\site-packages\\keras\\src\\losses.py:2976: The name tf.losses.sparse_softmax_cross_entropy is deprecated. Please use tf.compat.v1.losses.sparse_softmax_cross_entropy instead.\n",
      "\n"
     ]
    }
   ],
   "source": [
    "import matplotlib.pyplot as plt\n",
    "import numpy as np\n",
    "from glob import glob\n",
    "import cv2\n",
    "import random\n",
    "import os\n",
    "%matplotlib inline\n",
    "\n",
    "from tensorflow.keras.preprocessing.image import ImageDataGenerator #for understanding of image\n",
    "from tensorflow.keras.layers import Dense, Input, Dropout, Conv2D, Flatten\n",
    "from tensorflow.keras.layers import BatchNormalization, Activation, MaxPooling2D\n",
    "from tensorflow.keras.models import Model, Sequential\n",
    "from tensorflow.keras.optimizers import Adam\n",
    "from tensorflow.keras.callbacks import ModelCheckpoint, ReduceLROnPlateau\n",
    "from tensorflow.keras.utils import plot_model\n",
    "\n",
    "from IPython.display import SVG, Image\n",
    "import tensorflow as tf"
   ]
  },
  {
   "cell_type": "code",
   "execution_count": 2,
   "id": "b374c6e2",
   "metadata": {
    "execution": {
     "iopub.execute_input": "2024-01-01T19:50:09.397673Z",
     "iopub.status.busy": "2024-01-01T19:50:09.397074Z",
     "iopub.status.idle": "2024-01-01T19:50:09.402442Z",
     "shell.execute_reply": "2024-01-01T19:50:09.401562Z",
     "shell.execute_reply.started": "2024-01-01T19:50:09.397642Z"
    }
   },
   "outputs": [
    {
     "name": "stdout",
     "output_type": "stream",
     "text": [
      "2.15.0\n"
     ]
    }
   ],
   "source": [
    "print(tf.__version__)"
   ]
  },
  {
   "cell_type": "markdown",
   "id": "c443be36",
   "metadata": {},
   "source": [
    "**Exploring Dataset**"
   ]
  },
  {
   "cell_type": "code",
   "execution_count": 3,
   "id": "97e6e8f7",
   "metadata": {
    "execution": {
     "iopub.execute_input": "2024-01-01T19:50:14.787406Z",
     "iopub.status.busy": "2024-01-01T19:50:14.786709Z",
     "iopub.status.idle": "2024-01-01T19:50:17.131496Z",
     "shell.execute_reply": "2024-01-01T19:50:17.130272Z",
     "shell.execute_reply.started": "2024-01-01T19:50:14.787371Z"
    }
   },
   "outputs": [
    {
     "ename": "IndexError",
     "evalue": "list index out of range",
     "output_type": "error",
     "traceback": [
      "\u001b[1;31m---------------------------------------------------------------------------\u001b[0m",
      "\u001b[1;31mIndexError\u001b[0m                                Traceback (most recent call last)",
      "Cell \u001b[1;32mIn[3], line 3\u001b[0m\n\u001b[0;32m      1\u001b[0m images \u001b[38;5;241m=\u001b[39m glob(\u001b[38;5;124m\"\u001b[39m\u001b[38;5;124m/kaggle/input/fer2013/train/**/**\u001b[39m\u001b[38;5;124m\"\u001b[39m)\n\u001b[0;32m      2\u001b[0m \u001b[38;5;28;01mfor\u001b[39;00m i \u001b[38;5;129;01min\u001b[39;00m \u001b[38;5;28mrange\u001b[39m(\u001b[38;5;241m1\u001b[39m,\u001b[38;5;241m10\u001b[39m):\n\u001b[1;32m----> 3\u001b[0m     image \u001b[38;5;241m=\u001b[39m \u001b[43mrandom\u001b[49m\u001b[38;5;241;43m.\u001b[39;49m\u001b[43mchoice\u001b[49m\u001b[43m(\u001b[49m\u001b[43mimages\u001b[49m\u001b[43m)\u001b[49m\n\u001b[0;32m      4\u001b[0m     plt\u001b[38;5;241m.\u001b[39mfigure(figsize\u001b[38;5;241m=\u001b[39m(\u001b[38;5;241m12\u001b[39m,\u001b[38;5;241m12\u001b[39m))\n\u001b[0;32m      5\u001b[0m     plt\u001b[38;5;241m.\u001b[39msubplot(\u001b[38;5;241m3\u001b[39m,\u001b[38;5;241m3\u001b[39m,i)\n",
      "File \u001b[1;32m~\\anaconda3\\lib\\random.py:346\u001b[0m, in \u001b[0;36mRandom.choice\u001b[1;34m(self, seq)\u001b[0m\n\u001b[0;32m    344\u001b[0m \u001b[38;5;250m\u001b[39m\u001b[38;5;124;03m\"\"\"Choose a random element from a non-empty sequence.\"\"\"\u001b[39;00m\n\u001b[0;32m    345\u001b[0m \u001b[38;5;66;03m# raises IndexError if seq is empty\u001b[39;00m\n\u001b[1;32m--> 346\u001b[0m \u001b[38;5;28;01mreturn\u001b[39;00m \u001b[43mseq\u001b[49m\u001b[43m[\u001b[49m\u001b[38;5;28;43mself\u001b[39;49m\u001b[38;5;241;43m.\u001b[39;49m\u001b[43m_randbelow\u001b[49m\u001b[43m(\u001b[49m\u001b[38;5;28;43mlen\u001b[39;49m\u001b[43m(\u001b[49m\u001b[43mseq\u001b[49m\u001b[43m)\u001b[49m\u001b[43m)\u001b[49m\u001b[43m]\u001b[49m\n",
      "\u001b[1;31mIndexError\u001b[0m: list index out of range"
     ]
    }
   ],
   "source": [
    "images = glob(\"/kaggle/input/fer2013/train/**/**\")\n",
    "for i in range(1,10):\n",
    "    image = random.choice(images)\n",
    "    plt.figure(figsize=(12,12))\n",
    "    plt.subplot(3,3,i)\n",
    "    img = cv2.imread(image)\n",
    "    plt.imshow(img)\n",
    "    plt.axis(\"off\")"
   ]
  },
  {
   "cell_type": "markdown",
   "id": "3334dc47",
   "metadata": {},
   "source": [
    "**Preparing Data**"
   ]
  },
  {
   "cell_type": "code",
   "execution_count": 6,
   "id": "53ffd40f",
   "metadata": {
    "execution": {
     "iopub.execute_input": "2024-01-01T19:50:23.432725Z",
     "iopub.status.busy": "2024-01-01T19:50:23.431989Z",
     "iopub.status.idle": "2024-01-01T19:50:46.581249Z",
     "shell.execute_reply": "2024-01-01T19:50:46.580468Z",
     "shell.execute_reply.started": "2024-01-01T19:50:23.432668Z"
    }
   },
   "outputs": [
    {
     "name": "stdout",
     "output_type": "stream",
     "text": [
      "Found 28709 images belonging to 7 classes.\n",
      "Found 7178 images belonging to 7 classes.\n"
     ]
    }
   ],
   "source": [
    "img_size = 48\n",
    "batch_size = 64\n",
    "datagen_train = ImageDataGenerator(horizontal_flip=True)\n",
    "training_generator = datagen_train.flow_from_directory(\"/kaggle/input/fer2013/train/\",\n",
    "                                                      target_size = (img_size,img_size),\n",
    "                                                      batch_size = batch_size,\n",
    "                                                      color_mode = \"grayscale\",\n",
    "                                                      class_mode = \"categorical\",\n",
    "                                                      shuffle = True)\n",
    "\n",
    "datagen_validation = ImageDataGenerator(horizontal_flip=True)\n",
    "validation_generator = datagen_validation.flow_from_directory(\"/kaggle/input/fer2013/test/\",\n",
    "                                                        target_size = (img_size,img_size),\n",
    "                                                        color_mode = \"grayscale\",\n",
    "                                                        batch_size = batch_size,\n",
    "                                                        class_mode = \"categorical\",\n",
    "                                                        shuffle = True)"
   ]
  },
  {
   "cell_type": "markdown",
   "id": "afd82dff",
   "metadata": {},
   "source": [
    "**Defining Model**"
   ]
  },
  {
   "cell_type": "code",
   "execution_count": 7,
   "id": "3792a5de",
   "metadata": {
    "execution": {
     "iopub.execute_input": "2024-01-01T19:50:46.583022Z",
     "iopub.status.busy": "2024-01-01T19:50:46.582742Z",
     "iopub.status.idle": "2024-01-01T19:50:46.588559Z",
     "shell.execute_reply": "2024-01-01T19:50:46.587630Z",
     "shell.execute_reply.started": "2024-01-01T19:50:46.582998Z"
    }
   },
   "outputs": [],
   "source": [
    "def Convolution(input_tensor, filters, kernel_size):\n",
    "    x = Conv2D(filters = filters, kernel_size = kernel_size, padding = \"same\")(input_tensor)\n",
    "    x = BatchNormalization()(x)\n",
    "    x = Activation(\"relu\")(x) #activation function\n",
    "    x = MaxPooling2D(pool_size=(2,2))(x) #reduce dimensions\n",
    "    x = Dropout(0.25)(x) #overcome overfitting\n",
    "    return x\n"
   ]
  },
  {
   "cell_type": "code",
   "execution_count": 8,
   "id": "ed188e7e",
   "metadata": {
    "execution": {
     "iopub.execute_input": "2024-01-01T19:50:46.589950Z",
     "iopub.status.busy": "2024-01-01T19:50:46.589634Z",
     "iopub.status.idle": "2024-01-01T19:50:46.597834Z",
     "shell.execute_reply": "2024-01-01T19:50:46.596950Z",
     "shell.execute_reply.started": "2024-01-01T19:50:46.589927Z"
    }
   },
   "outputs": [],
   "source": [
    "def Dense_f(input_tensor, nodes):\n",
    "    x = Dense(nodes)(input_tensor)\n",
    "    x = BatchNormalization()(x)\n",
    "    x = Activation(\"relu\")(x)\n",
    "    x = Dropout(0.25)(x)\n",
    "    return x"
   ]
  },
  {
   "cell_type": "code",
   "execution_count": 9,
   "id": "5d73bf7d",
   "metadata": {
    "execution": {
     "iopub.execute_input": "2024-01-01T19:50:46.600225Z",
     "iopub.status.busy": "2024-01-01T19:50:46.599901Z",
     "iopub.status.idle": "2024-01-01T19:50:46.608393Z",
     "shell.execute_reply": "2024-01-01T19:50:46.607492Z",
     "shell.execute_reply.started": "2024-01-01T19:50:46.600195Z"
    }
   },
   "outputs": [],
   "source": [
    "def model_fer(input_shape):\n",
    "    inputs = Input(input_shape)\n",
    "    conv_1 = Convolution(inputs, 64, (3,3))\n",
    "    conv_2 = Convolution(conv_1, 128, (5,5))\n",
    "    conv_3 = Convolution(conv_2, 512, (3,3))\n",
    "    conv_4 = Convolution(conv_3, 512, (3,3))\n",
    "    flatten = Flatten()(conv_4)\n",
    "    dense_1 = Dense_f(flatten, 256)\n",
    "    dense_2 = Dense_f(dense_1,512)\n",
    "    \n",
    "    output = Dense(7, activation = \"softmax\")(dense_2)\n",
    "    model = Model(inputs = [inputs], outputs = [output])\n",
    "    opt = Adam(lr=0.0005)\n",
    "    model.compile(loss = [\"categorical_crossentropy\"], optimizer = opt, metrics = [\"accuracy\"])\n",
    "    \n",
    "    return model"
   ]
  },
  {
   "cell_type": "code",
   "execution_count": 10,
   "id": "19de7b17",
   "metadata": {
    "execution": {
     "iopub.execute_input": "2024-01-01T19:50:46.609813Z",
     "iopub.status.busy": "2024-01-01T19:50:46.609434Z",
     "iopub.status.idle": "2024-01-01T19:50:50.954385Z",
     "shell.execute_reply": "2024-01-01T19:50:50.953430Z",
     "shell.execute_reply.started": "2024-01-01T19:50:46.609788Z"
    }
   },
   "outputs": [
    {
     "name": "stdout",
     "output_type": "stream",
     "text": [
      "Model: \"model\"\n",
      "_________________________________________________________________\n",
      " Layer (type)                Output Shape              Param #   \n",
      "=================================================================\n",
      " input_1 (InputLayer)        [(None, 48, 48, 1)]       0         \n",
      "                                                                 \n",
      " conv2d (Conv2D)             (None, 48, 48, 64)        640       \n",
      "                                                                 \n",
      " batch_normalization (Batch  (None, 48, 48, 64)        256       \n",
      " Normalization)                                                  \n",
      "                                                                 \n",
      " activation (Activation)     (None, 48, 48, 64)        0         \n",
      "                                                                 \n",
      " max_pooling2d (MaxPooling2  (None, 24, 24, 64)        0         \n",
      " D)                                                              \n",
      "                                                                 \n",
      " dropout (Dropout)           (None, 24, 24, 64)        0         \n",
      "                                                                 \n",
      " conv2d_1 (Conv2D)           (None, 24, 24, 128)       204928    \n",
      "                                                                 \n",
      " batch_normalization_1 (Bat  (None, 24, 24, 128)       512       \n",
      " chNormalization)                                                \n",
      "                                                                 \n",
      " activation_1 (Activation)   (None, 24, 24, 128)       0         \n",
      "                                                                 \n",
      " max_pooling2d_1 (MaxPoolin  (None, 12, 12, 128)       0         \n",
      " g2D)                                                            \n",
      "                                                                 \n",
      " dropout_1 (Dropout)         (None, 12, 12, 128)       0         \n",
      "                                                                 \n",
      " conv2d_2 (Conv2D)           (None, 12, 12, 512)       590336    \n",
      "                                                                 \n",
      " batch_normalization_2 (Bat  (None, 12, 12, 512)       2048      \n",
      " chNormalization)                                                \n",
      "                                                                 \n",
      " activation_2 (Activation)   (None, 12, 12, 512)       0         \n",
      "                                                                 \n",
      " max_pooling2d_2 (MaxPoolin  (None, 6, 6, 512)         0         \n",
      " g2D)                                                            \n",
      "                                                                 \n",
      " dropout_2 (Dropout)         (None, 6, 6, 512)         0         \n",
      "                                                                 \n",
      " conv2d_3 (Conv2D)           (None, 6, 6, 512)         2359808   \n",
      "                                                                 \n",
      " batch_normalization_3 (Bat  (None, 6, 6, 512)         2048      \n",
      " chNormalization)                                                \n",
      "                                                                 \n",
      " activation_3 (Activation)   (None, 6, 6, 512)         0         \n",
      "                                                                 \n",
      " max_pooling2d_3 (MaxPoolin  (None, 3, 3, 512)         0         \n",
      " g2D)                                                            \n",
      "                                                                 \n",
      " dropout_3 (Dropout)         (None, 3, 3, 512)         0         \n",
      "                                                                 \n",
      " flatten (Flatten)           (None, 4608)              0         \n",
      "                                                                 \n",
      " dense (Dense)               (None, 256)               1179904   \n",
      "                                                                 \n",
      " batch_normalization_4 (Bat  (None, 256)               1024      \n",
      " chNormalization)                                                \n",
      "                                                                 \n",
      " activation_4 (Activation)   (None, 256)               0         \n",
      "                                                                 \n",
      " dropout_4 (Dropout)         (None, 256)               0         \n",
      "                                                                 \n",
      " dense_1 (Dense)             (None, 512)               131584    \n",
      "                                                                 \n",
      " batch_normalization_5 (Bat  (None, 512)               2048      \n",
      " chNormalization)                                                \n",
      "                                                                 \n",
      " activation_5 (Activation)   (None, 512)               0         \n",
      "                                                                 \n",
      " dropout_5 (Dropout)         (None, 512)               0         \n",
      "                                                                 \n",
      " dense_2 (Dense)             (None, 7)                 3591      \n",
      "                                                                 \n",
      "=================================================================\n",
      "Total params: 4478727 (17.08 MB)\n",
      "Trainable params: 4474759 (17.07 MB)\n",
      "Non-trainable params: 3968 (15.50 KB)\n",
      "_________________________________________________________________\n"
     ]
    }
   ],
   "source": [
    "model = model_fer((48,48,1))\n",
    "model.summary()"
   ]
  },
  {
   "cell_type": "markdown",
   "id": "f8bc371c",
   "metadata": {},
   "source": [
    "**Initializing the model**"
   ]
  },
  {
   "cell_type": "code",
   "execution_count": 12,
   "id": "3ee8a430",
   "metadata": {
    "execution": {
     "iopub.execute_input": "2024-01-01T19:51:02.016477Z",
     "iopub.status.busy": "2024-01-01T19:51:02.015846Z",
     "iopub.status.idle": "2024-01-01T19:51:02.022747Z",
     "shell.execute_reply": "2024-01-01T19:51:02.021313Z",
     "shell.execute_reply.started": "2024-01-01T19:51:02.016441Z"
    }
   },
   "outputs": [],
   "source": [
    "epochs = 15\n",
    "steps_per_epoch = training_generator.n//training_generator.batch_size\n",
    "validation_steps = validation_generator.n//validation_generator.batch_size\n",
    "checkpoint = ModelCheckpoint(\"model_weights.h5\", monitor = \"val_accuracy\", save_weights_only = True, mode = \"max\", verbose = 1)\n",
    "reduce_lr = ReduceLROnPlateau(monitor='val_loss', factor=0.1, patience=2, min_lr=0.00001)\n",
    "callbacks = [checkpoint,reduce_lr]"
   ]
  },
  {
   "cell_type": "markdown",
   "id": "15a11abb",
   "metadata": {},
   "source": [
    "# Training the Model"
   ]
  },
  {
   "cell_type": "code",
   "execution_count": 13,
   "id": "e35ad8a2",
   "metadata": {
    "execution": {
     "iopub.execute_input": "2024-01-01T19:51:04.108791Z",
     "iopub.status.busy": "2024-01-01T19:51:04.108417Z",
     "iopub.status.idle": "2024-01-01T20:00:51.239823Z",
     "shell.execute_reply": "2024-01-01T20:00:51.238962Z",
     "shell.execute_reply.started": "2024-01-01T19:51:04.108758Z"
    }
   },
   "outputs": [
    {
     "name": "stdout",
     "output_type": "stream",
     "text": [
      "Epoch 1/15\n"
     ]
    },
    {
     "name": "stderr",
     "output_type": "stream",
     "text": [
      "2024-01-01 19:51:06.765253: E tensorflow/core/grappler/optimizers/meta_optimizer.cc:954] layout failed: INVALID_ARGUMENT: Size of values 0 does not match size of permutation 4 @ fanin shape inmodel/dropout/dropout/SelectV2-2-TransposeNHWCToNCHW-LayoutOptimizer\n"
     ]
    },
    {
     "name": "stdout",
     "output_type": "stream",
     "text": [
      "448/448 [==============================] - ETA: 0s - loss: 1.7654 - accuracy: 0.3203\n",
      "Epoch 1: saving model to model_weights.h5\n",
      "448/448 [==============================] - 171s 349ms/step - loss: 1.7654 - accuracy: 0.3203 - val_loss: 1.5934 - val_accuracy: 0.4238 - lr: 0.0010\n",
      "Epoch 2/15\n",
      "448/448 [==============================] - ETA: 0s - loss: 1.3978 - accuracy: 0.4667\n",
      "Epoch 2: saving model to model_weights.h5\n",
      "448/448 [==============================] - 30s 67ms/step - loss: 1.3978 - accuracy: 0.4667 - val_loss: 1.3025 - val_accuracy: 0.4932 - lr: 0.0010\n",
      "Epoch 3/15\n",
      "448/448 [==============================] - ETA: 0s - loss: 1.2616 - accuracy: 0.5197\n",
      "Epoch 3: saving model to model_weights.h5\n",
      "448/448 [==============================] - 29s 66ms/step - loss: 1.2616 - accuracy: 0.5197 - val_loss: 1.1938 - val_accuracy: 0.5449 - lr: 0.0010\n",
      "Epoch 4/15\n",
      "448/448 [==============================] - ETA: 0s - loss: 1.1927 - accuracy: 0.5447\n",
      "Epoch 4: saving model to model_weights.h5\n",
      "448/448 [==============================] - 31s 68ms/step - loss: 1.1927 - accuracy: 0.5447 - val_loss: 1.1657 - val_accuracy: 0.5568 - lr: 0.0010\n",
      "Epoch 5/15\n",
      "448/448 [==============================] - ETA: 0s - loss: 1.1524 - accuracy: 0.5628\n",
      "Epoch 5: saving model to model_weights.h5\n",
      "448/448 [==============================] - 30s 67ms/step - loss: 1.1524 - accuracy: 0.5628 - val_loss: 1.2023 - val_accuracy: 0.5419 - lr: 0.0010\n",
      "Epoch 6/15\n",
      "447/448 [============================>.] - ETA: 0s - loss: 1.1094 - accuracy: 0.5795\n",
      "Epoch 6: saving model to model_weights.h5\n",
      "448/448 [==============================] - 30s 67ms/step - loss: 1.1088 - accuracy: 0.5799 - val_loss: 1.1921 - val_accuracy: 0.5409 - lr: 0.0010\n",
      "Epoch 7/15\n",
      "447/448 [============================>.] - ETA: 0s - loss: 1.0244 - accuracy: 0.6139\n",
      "Epoch 7: saving model to model_weights.h5\n",
      "448/448 [==============================] - 29s 66ms/step - loss: 1.0245 - accuracy: 0.6140 - val_loss: 1.0232 - val_accuracy: 0.6164 - lr: 1.0000e-04\n",
      "Epoch 8/15\n",
      "448/448 [==============================] - ETA: 0s - loss: 0.9915 - accuracy: 0.6269\n",
      "Epoch 8: saving model to model_weights.h5\n",
      "448/448 [==============================] - 30s 66ms/step - loss: 0.9915 - accuracy: 0.6269 - val_loss: 1.0067 - val_accuracy: 0.6208 - lr: 1.0000e-04\n",
      "Epoch 9/15\n",
      "448/448 [==============================] - ETA: 0s - loss: 0.9797 - accuracy: 0.6292\n",
      "Epoch 9: saving model to model_weights.h5\n",
      "448/448 [==============================] - 30s 67ms/step - loss: 0.9797 - accuracy: 0.6292 - val_loss: 1.0020 - val_accuracy: 0.6242 - lr: 1.0000e-04\n",
      "Epoch 10/15\n",
      "447/448 [============================>.] - ETA: 0s - loss: 0.9650 - accuracy: 0.6348\n",
      "Epoch 10: saving model to model_weights.h5\n",
      "448/448 [==============================] - 29s 65ms/step - loss: 0.9651 - accuracy: 0.6348 - val_loss: 0.9951 - val_accuracy: 0.6250 - lr: 1.0000e-04\n",
      "Epoch 11/15\n",
      "448/448 [==============================] - ETA: 0s - loss: 0.9486 - accuracy: 0.6413\n",
      "Epoch 11: saving model to model_weights.h5\n",
      "448/448 [==============================] - 29s 65ms/step - loss: 0.9486 - accuracy: 0.6413 - val_loss: 1.0004 - val_accuracy: 0.6296 - lr: 1.0000e-04\n",
      "Epoch 12/15\n",
      "448/448 [==============================] - ETA: 0s - loss: 0.9383 - accuracy: 0.6496\n",
      "Epoch 12: saving model to model_weights.h5\n",
      "448/448 [==============================] - 30s 66ms/step - loss: 0.9383 - accuracy: 0.6496 - val_loss: 0.9879 - val_accuracy: 0.6343 - lr: 1.0000e-04\n",
      "Epoch 13/15\n",
      "448/448 [==============================] - ETA: 0s - loss: 0.9289 - accuracy: 0.6468\n",
      "Epoch 13: saving model to model_weights.h5\n",
      "448/448 [==============================] - 30s 66ms/step - loss: 0.9289 - accuracy: 0.6468 - val_loss: 0.9910 - val_accuracy: 0.6303 - lr: 1.0000e-04\n",
      "Epoch 14/15\n",
      "448/448 [==============================] - ETA: 0s - loss: 0.9126 - accuracy: 0.6561\n",
      "Epoch 14: saving model to model_weights.h5\n",
      "448/448 [==============================] - 30s 67ms/step - loss: 0.9126 - accuracy: 0.6561 - val_loss: 0.9817 - val_accuracy: 0.6350 - lr: 1.0000e-04\n",
      "Epoch 15/15\n",
      "448/448 [==============================] - ETA: 0s - loss: 0.9084 - accuracy: 0.6595\n",
      "Epoch 15: saving model to model_weights.h5\n",
      "448/448 [==============================] - 29s 65ms/step - loss: 0.9084 - accuracy: 0.6595 - val_loss: 0.9837 - val_accuracy: 0.6343 - lr: 1.0000e-04\n"
     ]
    }
   ],
   "source": [
    "history = model.fit(\n",
    "x = training_generator,\n",
    "steps_per_epoch = steps_per_epoch,\n",
    "epochs = epochs,\n",
    "validation_data = validation_generator,\n",
    "validation_steps = validation_steps,\n",
    "callbacks = callbacks)"
   ]
  },
  {
   "cell_type": "markdown",
   "id": "8b53291a",
   "metadata": {},
   "source": [
    "**Model Evaluation**"
   ]
  },
  {
   "cell_type": "code",
   "execution_count": 14,
   "id": "63923a99",
   "metadata": {
    "execution": {
     "iopub.execute_input": "2024-01-01T20:04:23.974527Z",
     "iopub.status.busy": "2024-01-01T20:04:23.974144Z",
     "iopub.status.idle": "2024-01-01T20:04:30.078368Z",
     "shell.execute_reply": "2024-01-01T20:04:30.077466Z",
     "shell.execute_reply.started": "2024-01-01T20:04:23.974497Z"
    }
   },
   "outputs": [
    {
     "name": "stdout",
     "output_type": "stream",
     "text": [
      "113/113 [==============================] - 6s 53ms/step - loss: 0.9833 - accuracy: 0.6388\n"
     ]
    },
    {
     "data": {
      "text/plain": [
       "[0.9833338856697083, 0.6387572884559631]"
      ]
     },
     "execution_count": 14,
     "metadata": {},
     "output_type": "execute_result"
    }
   ],
   "source": [
    "model.evaluate(validation_generator)"
   ]
  },
  {
   "cell_type": "markdown",
   "id": "e439cd58",
   "metadata": {},
   "source": [
    "**Plotting Loss**"
   ]
  },
  {
   "cell_type": "code",
   "execution_count": 15,
   "id": "fffd04e4",
   "metadata": {
    "execution": {
     "iopub.execute_input": "2024-01-01T20:05:17.695778Z",
     "iopub.status.busy": "2024-01-01T20:05:17.695095Z",
     "iopub.status.idle": "2024-01-01T20:05:18.032566Z",
     "shell.execute_reply": "2024-01-01T20:05:18.031736Z",
     "shell.execute_reply.started": "2024-01-01T20:05:17.695739Z"
    }
   },
   "outputs": [
    {
     "data": {
      "image/png": "[encoded data removed]",
      "text/plain": [
       "<Figure size 640x480 with 1 Axes>"
      ]
     },
     "metadata": {},
     "output_type": "display_data"
    }
   ],
   "source": [
    "plt.plot(history.history['loss'])\n",
    "plt.plot(history.history['val_loss'])\n",
    "plt.title('Model Loss')\n",
    "plt.legend(['Train','Validation'], loc='upper left')\n",
    "plt.subplots_adjust(top=1.0, bottom=0.0, right=0.95, left=0.0, hspace=0.25, wspace=0.35)"
   ]
  },
  {
   "cell_type": "code",
   "execution_count": 16,
   "id": "173d33e7",
   "metadata": {
    "execution": {
     "iopub.execute_input": "2024-01-01T20:05:20.859962Z",
     "iopub.status.busy": "2024-01-01T20:05:20.859605Z",
     "iopub.status.idle": "2024-01-01T20:05:21.157937Z",
     "shell.execute_reply": "2024-01-01T20:05:21.157033Z",
     "shell.execute_reply.started": "2024-01-01T20:05:20.859936Z"
    }
   },
   "outputs": [
    {
     "data": {
      "image/png": "[encoded data removed]",
      "text/plain": [
       "<Figure size 640x480 with 1 Axes>"
      ]
     },
     "metadata": {},
     "output_type": "display_data"
    }
   ],
   "source": [
    "plt.plot(history.history['accuracy'])\n",
    "plt.plot(history.history['val_accuracy'])\n",
    "plt.title('Model Accuracy')\n",
    "plt.legend(['Train', 'Validation'], loc='upper left')\n",
    "plt.subplots_adjust(top=1.0, bottom=0.0, right=0.95, left=0.0, hspace=0.25, wspace=0.35)"
   ]
  },
  {
   "cell_type": "markdown",
   "id": "e05825fd",
   "metadata": {},
   "source": [
    "**Saving Model**"
   ]
  },
  {
   "cell_type": "code",
   "execution_count": 17,
   "id": "56a75082",
   "metadata": {
    "execution": {
     "iopub.execute_input": "2024-01-01T20:05:37.672036Z",
     "iopub.status.busy": "2024-01-01T20:05:37.671250Z",
     "iopub.status.idle": "2024-01-01T20:05:37.690116Z",
     "shell.execute_reply": "2024-01-01T20:05:37.689182Z",
     "shell.execute_reply.started": "2024-01-01T20:05:37.671989Z"
    }
   },
   "outputs": [],
   "source": [
    "model_json = model.to_json()\n",
    "with open('model_a.json',\"w\") as json_file:\n",
    "    json_file.write(model_json)"
   ]
  },
  {
   "cell_type": "code",
   "execution_count": null,
   "id": "dbc75a88",
   "metadata": {},
   "outputs": [],
   "source": []
  }
 ],
 "metadata": {
  "kaggle": {
   "accelerator": "nvidiaTeslaT4",
   "dataSources": [
    {
     "datasetId": 786787,
     "sourceId": 1351797,
     "sourceType": "datasetVersion"
    }
   ],
   "dockerImageVersionId": 30627,
   "isGpuEnabled": true,
   "isInternetEnabled": false,
   "language": "python",
   "sourceType": "notebook"
  },
  "kernelspec": {
   "display_name": "Python 3 (ipykernel)",
   "language": "python",
   "name": "python3"
  },
  "language_info": {
   "codemirror_mode": {
    "name": "ipython",
    "version": 3
   },
   "file_extension": ".py",
   "mimetype": "text/x-python",
   "name": "python",
   "nbconvert_exporter": "python",
   "pygments_lexer": "ipython3",
   "version": "3.11.5"
  }
 },
 "nbformat": 4,
 "nbformat_minor": 5
}
